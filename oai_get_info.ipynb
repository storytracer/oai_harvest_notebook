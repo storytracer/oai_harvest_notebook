{
 "cells": [
  {
   "cell_type": "markdown",
   "metadata": {},
   "source": [
    "# OAI Basic Data"
   ]
  },
  {
   "cell_type": "markdown",
   "metadata": {},
   "source": [
    "This notebook lets the user list all the sets from an OAI-PMH interface"
   ]
  },
  {
   "cell_type": "code",
   "execution_count": 20,
   "metadata": {
    "jupyter": {
     "source_hidden": true
    }
   },
   "outputs": [
    {
     "data": {
      "application/vnd.jupyter.widget-view+json": {
       "model_id": "b9012415549046b79dfebaa507f4fa70",
       "version_major": 2,
       "version_minor": 0
      },
      "text/plain": [
       "Text(value='https://hrcak.srce.hr/oai', description='OAI URL:', placeholder='Enter OAI URL endpoint here')"
      ]
     },
     "metadata": {},
     "output_type": "display_data"
    },
    {
     "data": {
      "application/vnd.jupyter.widget-view+json": {
       "model_id": "b8b55d8433c44f2baa5eef6fded3afe2",
       "version_major": 2,
       "version_minor": 0
      },
      "text/plain": [
       "Dropdown(description='Action:', options=('ListSets', 'ListMetadataFormats'), value='ListSets')"
      ]
     },
     "metadata": {},
     "output_type": "display_data"
    },
    {
     "data": {
      "application/vnd.jupyter.widget-view+json": {
       "model_id": "e4faa5002abe4c7eaa7519cb9a3adbd4",
       "version_major": 2,
       "version_minor": 0
      },
      "text/plain": [
       "Button(description='Run', style=ButtonStyle())"
      ]
     },
     "metadata": {},
     "output_type": "display_data"
    }
   ],
   "source": [
    "from sickle import Sickle\n",
    "import ipywidgets as widgets\n",
    "output = widgets.Output()\n",
    "\n",
    "def list_sets(sickle):\n",
    "    sets = sickle.ListSets()\n",
    "    for oai_set in sets:\n",
    "        print(f\"SetSpec: {oai_set.setSpec}, Name: {oai_set.setName}\")\n",
    "        \n",
    "def list_metadata_formats(sickle):\n",
    "    metadata_formats = sickle.ListMetadataFormats()\n",
    "    for metadata_format in metadata_formats:\n",
    "        print(f\"Metadata Prefix: {metadata_format.metadataPrefix}, Schema: {metadata_format.schema}\")\n",
    "\n",
    "oai_url_input = widgets.Text(\n",
    "    value=\"https://hrcak.srce.hr/oai\",\n",
    "    placeholder=\"Enter OAI URL endpoint here\",\n",
    "    description=\"OAI URL:\",\n",
    "    disabled=False\n",
    ")\n",
    "action_dropdown = widgets.Dropdown(\n",
    "    options=['ListSets', 'ListMetadataFormats'],\n",
    "    value='ListSets',\n",
    "    description='Action:',\n",
    "    disabled=False,\n",
    ")\n",
    "run_button = widgets.Button(\n",
    "    description=\"Run\"\n",
    ")\n",
    "\n",
    "@output.capture(clear_output=True,wait=True)\n",
    "def button_pressed(b):\n",
    "    oai_url = oai_url_input.value\n",
    "    sickle = Sickle(oai_url)\n",
    "    if action_dropdown.value == \"ListSets\":\n",
    "        list_sets(sickle)\n",
    "    elif action_dropdown.value == \"ListMetadataFormats\":\n",
    "        list_metadata_formats(sickle)\n",
    "    metadata_formats = sickle.ListMetadataFormats()\n",
    "\n",
    "\n",
    "run_button.on_click(button_pressed)\n",
    "\n",
    "display(oai_url_input)\n",
    "display(action_dropdown)\n",
    "display(run_button)\n",
    "    "
   ]
  },
  {
   "cell_type": "code",
   "execution_count": 21,
   "metadata": {
    "scrolled": true
   },
   "outputs": [
    {
     "data": {
      "application/vnd.jupyter.widget-view+json": {
       "model_id": "e1fd272f73a94e238a794d04d7a4ff99",
       "version_major": 2,
       "version_minor": 0
      },
      "text/plain": [
       "Output()"
      ]
     },
     "execution_count": 21,
     "metadata": {},
     "output_type": "execute_result"
    }
   ],
   "source": [
    "output"
   ]
  }
 ],
 "metadata": {
  "kernelspec": {
   "display_name": "Python 3 (ipykernel)",
   "language": "python",
   "name": "python3"
  },
  "language_info": {
   "codemirror_mode": {
    "name": "ipython",
    "version": 3
   },
   "file_extension": ".py",
   "mimetype": "text/x-python",
   "name": "python",
   "nbconvert_exporter": "python",
   "pygments_lexer": "ipython3",
   "version": "3.12.1"
  }
 },
 "nbformat": 4,
 "nbformat_minor": 4
}
