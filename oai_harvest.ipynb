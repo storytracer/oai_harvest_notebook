{
 "cells": [
  {
   "cell_type": "markdown",
   "metadata": {},
   "source": [
    "# OAI Harvest Notebook"
   ]
  },
  {
   "cell_type": "code",
   "execution_count": 67,
   "metadata": {},
   "outputs": [],
   "source": [
    "%%capture\n",
    "%pip install -r requirements.txt"
   ]
  },
  {
   "cell_type": "code",
   "execution_count": 68,
   "metadata": {},
   "outputs": [],
   "source": [
    "from sickle import Sickle\n",
    "import ipywidgets as widgets\n",
    "output = widgets.Output()"
   ]
  },
  {
   "cell_type": "code",
   "execution_count": 69,
   "metadata": {},
   "outputs": [],
   "source": [
    "def list_sets(oai_url):\n",
    "    sickle = Sickle(oai_url)\n",
    "    sets = sickle.ListSets()\n",
    "    for oai_set in sets:\n",
    "        print(f\"SetSpec: {oai_set.setSpec}, Name: {oai_set.setName}\")"
   ]
  },
  {
   "cell_type": "code",
   "execution_count": 72,
   "metadata": {},
   "outputs": [
    {
     "data": {
      "application/vnd.jupyter.widget-view+json": {
       "model_id": "0d8af9e665dd4e1da57b4e3e185d4409",
       "version_major": 2,
       "version_minor": 0
      },
      "text/plain": [
       "Text(value='https://hrcak.srce.hr/oai', description='OAI URL:', placeholder='Enter OAI URL endpoint here')"
      ]
     },
     "metadata": {},
     "output_type": "display_data"
    },
    {
     "data": {
      "application/vnd.jupyter.widget-view+json": {
       "model_id": "754bc8fa07b140d982b09f855f370f01",
       "version_major": 2,
       "version_minor": 0
      },
      "text/plain": [
       "Dropdown(description='Output:', options=('OAI XML', 'MARC21XML'), value='OAI XML')"
      ]
     },
     "metadata": {},
     "output_type": "display_data"
    },
    {
     "data": {
      "application/vnd.jupyter.widget-view+json": {
       "model_id": "a2cca4efe9054e4b8ff5be47e7d50a26",
       "version_major": 2,
       "version_minor": 0
      },
      "text/plain": [
       "Button(description='Continue', style=ButtonStyle())"
      ]
     },
     "metadata": {},
     "output_type": "display_data"
    }
   ],
   "source": [
    "oai_url_input = widgets.Text(\n",
    "    value=\"https://hrcak.srce.hr/oai\",\n",
    "    placeholder=\"Enter OAI URL endpoint here\",\n",
    "    description=\"OAI URL:\",\n",
    "    disabled=False\n",
    ")\n",
    "output_dropdown = widgets.Dropdown(\n",
    "    options=['OAI XML', 'MARC21XML'],\n",
    "    value='OAI XML',\n",
    "    description='Output:',\n",
    "    disabled=False,\n",
    ")\n",
    "continue_button = widgets.Button(\n",
    "    description=\"Continue\"\n",
    ")\n",
    "\n",
    "@output.capture(clear_output=True,wait=True)\n",
    "def button_pressed(b):\n",
    "    oai_url = oai_url_input.value\n",
    "    list_sets(oai_url)\n",
    "\n",
    "continue_button.on_click(button_pressed)\n",
    "\n",
    "display(oai_url_input)\n",
    "display(output_dropdown)\n",
    "display(continue_button)"
   ]
  },
  {
   "cell_type": "code",
   "execution_count": 71,
   "metadata": {
    "scrolled": true
   },
   "outputs": [
    {
     "data": {
      "application/vnd.jupyter.widget-view+json": {
       "model_id": "56f0558a3ddb4dc2aa6f5243c3a7ff75",
       "version_major": 2,
       "version_minor": 0
      },
      "text/plain": [
       "Output()"
      ]
     },
     "execution_count": 71,
     "metadata": {},
     "output_type": "execute_result"
    }
   ],
   "source": [
    "output"
   ]
  }
 ],
 "metadata": {
  "kernelspec": {
   "display_name": "Python 3 (ipykernel)",
   "language": "python",
   "name": "python3"
  },
  "language_info": {
   "codemirror_mode": {
    "name": "ipython",
    "version": 3
   },
   "file_extension": ".py",
   "mimetype": "text/x-python",
   "name": "python",
   "nbconvert_exporter": "python",
   "pygments_lexer": "ipython3",
   "version": "3.12.1"
  }
 },
 "nbformat": 4,
 "nbformat_minor": 4
}
